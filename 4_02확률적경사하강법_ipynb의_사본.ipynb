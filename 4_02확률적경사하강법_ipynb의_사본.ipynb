{
  "nbformat": 4,
  "nbformat_minor": 0,
  "metadata": {
    "colab": {
      "name": "4-02확률적경사하강법.ipynb의 사본",
      "provenance": [],
      "authorship_tag": "ABX9TyM4kYImFijhKoXRZcEJi2OC",
      "include_colab_link": true
    },
    "kernelspec": {
      "name": "python3",
      "display_name": "Python 3"
    },
    "language_info": {
      "name": "python"
    }
  },
  "cells": [
    {
      "cell_type": "markdown",
      "metadata": {
        "id": "view-in-github",
        "colab_type": "text"
      },
      "source": [
        "<a href=\"https://colab.research.google.com/github/KOISSYK/machine-learning/blob/main/4_02%ED%99%95%EB%A5%A0%EC%A0%81%EA%B2%BD%EC%82%AC%ED%95%98%EA%B0%95%EB%B2%95_ipynb%EC%9D%98_%EC%82%AC%EB%B3%B8.ipynb\" target=\"_parent\"><img src=\"https://colab.research.google.com/assets/colab-badge.svg\" alt=\"Open In Colab\"/></a>"
      ]
    },
    {
      "cell_type": "markdown",
      "source": [
        "# **확률적 경사 하강법**"
      ],
      "metadata": {
        "id": "wpRs_pUDFhkK"
      }
    },
    {
      "cell_type": "markdown",
      "source": [
        "**SGDClassifier**"
      ],
      "metadata": {
        "id": "nsMV__dUFkeM"
      }
    },
    {
      "cell_type": "markdown",
      "source": [
        "훈련 세트에서 샘플을 하나씩 꺼내 손실 함수의 경사를 따라 최적의 모델을 찾는 알고리즘이다. 샘플을 여러개씩 사용하면 미니배치 경사 하강법이고, 한번에 전체 샘플을 사용하면 배치 경사 하강법이다."
      ],
      "metadata": {
        "id": "hW74NZYqHRxN"
      }
    },
    {
      "cell_type": "markdown",
      "source": [
        "\n",
        "\n",
        "*   확률적 경사 하강법은 훈련 세트에서 랜덤하게 하나의 샘플을 선택하여 가파른 경사를 조금 내려간다. 이후 훈련세트에서 랜덤하게 또 다른 샘플을 하나 선택하여 경사를 조금 내려간다. 전체 샘플을 모두 사용하면 이 과정을 반복하는데, 훈련세트를 한번 모두 수행하는 과정을 에포크라고 한다. 보통 수십, 수백번 이상의 에포크를 진행한다.\n",
        "\n",
        "*   미니배치 경사 하강법은 무작위로 몇 개의 샘플을 선택해서 경사를 내려간다.\n",
        "\n",
        "\n",
        "*   배치경사 하강법은 전체 샘플을 사용하여 경사를 내려간다. 가장 안정적인 방법이지만 컴퓨터 자원을 많이 사용한다.\n",
        "\n",
        "\n",
        "\n"
      ],
      "metadata": {
        "id": "W5fxxsMMHSiS"
      }
    },
    {
      "cell_type": "code",
      "source": [
        "import pandas as pd\n",
        "fish = pd.read_csv('http://bit.ly/fish_csv_data')"
      ],
      "metadata": {
        "id": "oY_17kPf644N"
      },
      "execution_count": null,
      "outputs": []
    },
    {
      "cell_type": "code",
      "source": [
        "fish.head()"
      ],
      "metadata": {
        "colab": {
          "base_uri": "https://localhost:8080/",
          "height": 206
        },
        "id": "sd4geFd865EF",
        "outputId": "dbafe6c1-5afd-4093-cba4-04789f413b29"
      },
      "execution_count": null,
      "outputs": [
        {
          "output_type": "execute_result",
          "data": {
            "text/plain": [
              "  Species  Weight  Length  Diagonal   Height   Width\n",
              "0   Bream   242.0    25.4      30.0  11.5200  4.0200\n",
              "1   Bream   290.0    26.3      31.2  12.4800  4.3056\n",
              "2   Bream   340.0    26.5      31.1  12.3778  4.6961\n",
              "3   Bream   363.0    29.0      33.5  12.7300  4.4555\n",
              "4   Bream   430.0    29.0      34.0  12.4440  5.1340"
            ],
            "text/html": [
              "\n",
              "  <div id=\"df-33767d35-3f49-40d7-8b96-e8479ee547ab\">\n",
              "    <div class=\"colab-df-container\">\n",
              "      <div>\n",
              "<style scoped>\n",
              "    .dataframe tbody tr th:only-of-type {\n",
              "        vertical-align: middle;\n",
              "    }\n",
              "\n",
              "    .dataframe tbody tr th {\n",
              "        vertical-align: top;\n",
              "    }\n",
              "\n",
              "    .dataframe thead th {\n",
              "        text-align: right;\n",
              "    }\n",
              "</style>\n",
              "<table border=\"1\" class=\"dataframe\">\n",
              "  <thead>\n",
              "    <tr style=\"text-align: right;\">\n",
              "      <th></th>\n",
              "      <th>Species</th>\n",
              "      <th>Weight</th>\n",
              "      <th>Length</th>\n",
              "      <th>Diagonal</th>\n",
              "      <th>Height</th>\n",
              "      <th>Width</th>\n",
              "    </tr>\n",
              "  </thead>\n",
              "  <tbody>\n",
              "    <tr>\n",
              "      <th>0</th>\n",
              "      <td>Bream</td>\n",
              "      <td>242.0</td>\n",
              "      <td>25.4</td>\n",
              "      <td>30.0</td>\n",
              "      <td>11.5200</td>\n",
              "      <td>4.0200</td>\n",
              "    </tr>\n",
              "    <tr>\n",
              "      <th>1</th>\n",
              "      <td>Bream</td>\n",
              "      <td>290.0</td>\n",
              "      <td>26.3</td>\n",
              "      <td>31.2</td>\n",
              "      <td>12.4800</td>\n",
              "      <td>4.3056</td>\n",
              "    </tr>\n",
              "    <tr>\n",
              "      <th>2</th>\n",
              "      <td>Bream</td>\n",
              "      <td>340.0</td>\n",
              "      <td>26.5</td>\n",
              "      <td>31.1</td>\n",
              "      <td>12.3778</td>\n",
              "      <td>4.6961</td>\n",
              "    </tr>\n",
              "    <tr>\n",
              "      <th>3</th>\n",
              "      <td>Bream</td>\n",
              "      <td>363.0</td>\n",
              "      <td>29.0</td>\n",
              "      <td>33.5</td>\n",
              "      <td>12.7300</td>\n",
              "      <td>4.4555</td>\n",
              "    </tr>\n",
              "    <tr>\n",
              "      <th>4</th>\n",
              "      <td>Bream</td>\n",
              "      <td>430.0</td>\n",
              "      <td>29.0</td>\n",
              "      <td>34.0</td>\n",
              "      <td>12.4440</td>\n",
              "      <td>5.1340</td>\n",
              "    </tr>\n",
              "  </tbody>\n",
              "</table>\n",
              "</div>\n",
              "      <button class=\"colab-df-convert\" onclick=\"convertToInteractive('df-33767d35-3f49-40d7-8b96-e8479ee547ab')\"\n",
              "              title=\"Convert this dataframe to an interactive table.\"\n",
              "              style=\"display:none;\">\n",
              "        \n",
              "  <svg xmlns=\"http://www.w3.org/2000/svg\" height=\"24px\"viewBox=\"0 0 24 24\"\n",
              "       width=\"24px\">\n",
              "    <path d=\"M0 0h24v24H0V0z\" fill=\"none\"/>\n",
              "    <path d=\"M18.56 5.44l.94 2.06.94-2.06 2.06-.94-2.06-.94-.94-2.06-.94 2.06-2.06.94zm-11 1L8.5 8.5l.94-2.06 2.06-.94-2.06-.94L8.5 2.5l-.94 2.06-2.06.94zm10 10l.94 2.06.94-2.06 2.06-.94-2.06-.94-.94-2.06-.94 2.06-2.06.94z\"/><path d=\"M17.41 7.96l-1.37-1.37c-.4-.4-.92-.59-1.43-.59-.52 0-1.04.2-1.43.59L10.3 9.45l-7.72 7.72c-.78.78-.78 2.05 0 2.83L4 21.41c.39.39.9.59 1.41.59.51 0 1.02-.2 1.41-.59l7.78-7.78 2.81-2.81c.8-.78.8-2.07 0-2.86zM5.41 20L4 18.59l7.72-7.72 1.47 1.35L5.41 20z\"/>\n",
              "  </svg>\n",
              "      </button>\n",
              "      \n",
              "  <style>\n",
              "    .colab-df-container {\n",
              "      display:flex;\n",
              "      flex-wrap:wrap;\n",
              "      gap: 12px;\n",
              "    }\n",
              "\n",
              "    .colab-df-convert {\n",
              "      background-color: #E8F0FE;\n",
              "      border: none;\n",
              "      border-radius: 50%;\n",
              "      cursor: pointer;\n",
              "      display: none;\n",
              "      fill: #1967D2;\n",
              "      height: 32px;\n",
              "      padding: 0 0 0 0;\n",
              "      width: 32px;\n",
              "    }\n",
              "\n",
              "    .colab-df-convert:hover {\n",
              "      background-color: #E2EBFA;\n",
              "      box-shadow: 0px 1px 2px rgba(60, 64, 67, 0.3), 0px 1px 3px 1px rgba(60, 64, 67, 0.15);\n",
              "      fill: #174EA6;\n",
              "    }\n",
              "\n",
              "    [theme=dark] .colab-df-convert {\n",
              "      background-color: #3B4455;\n",
              "      fill: #D2E3FC;\n",
              "    }\n",
              "\n",
              "    [theme=dark] .colab-df-convert:hover {\n",
              "      background-color: #434B5C;\n",
              "      box-shadow: 0px 1px 3px 1px rgba(0, 0, 0, 0.15);\n",
              "      filter: drop-shadow(0px 1px 2px rgba(0, 0, 0, 0.3));\n",
              "      fill: #FFFFFF;\n",
              "    }\n",
              "  </style>\n",
              "\n",
              "      <script>\n",
              "        const buttonEl =\n",
              "          document.querySelector('#df-33767d35-3f49-40d7-8b96-e8479ee547ab button.colab-df-convert');\n",
              "        buttonEl.style.display =\n",
              "          google.colab.kernel.accessAllowed ? 'block' : 'none';\n",
              "\n",
              "        async function convertToInteractive(key) {\n",
              "          const element = document.querySelector('#df-33767d35-3f49-40d7-8b96-e8479ee547ab');\n",
              "          const dataTable =\n",
              "            await google.colab.kernel.invokeFunction('convertToInteractive',\n",
              "                                                     [key], {});\n",
              "          if (!dataTable) return;\n",
              "\n",
              "          const docLinkHtml = 'Like what you see? Visit the ' +\n",
              "            '<a target=\"_blank\" href=https://colab.research.google.com/notebooks/data_table.ipynb>data table notebook</a>'\n",
              "            + ' to learn more about interactive tables.';\n",
              "          element.innerHTML = '';\n",
              "          dataTable['output_type'] = 'display_data';\n",
              "          await google.colab.output.renderOutput(dataTable, element);\n",
              "          const docLink = document.createElement('div');\n",
              "          docLink.innerHTML = docLinkHtml;\n",
              "          element.appendChild(docLink);\n",
              "        }\n",
              "      </script>\n",
              "    </div>\n",
              "  </div>\n",
              "  "
            ]
          },
          "metadata": {},
          "execution_count": 2
        }
      ]
    },
    {
      "cell_type": "code",
      "source": [
        "fish_input = fish[['Weight',\t'Length',\t'Diagonal',\t'Height',\t'Width']].to_numpy()\n",
        "fish_target = fish['Species'].to_numpy()"
      ],
      "metadata": {
        "id": "ugkpDejk65I9"
      },
      "execution_count": null,
      "outputs": []
    },
    {
      "cell_type": "code",
      "source": [
        "#훈련데이터와 테스트 데이터 나누기\n",
        "from sklearn.model_selection import train_test_split\n",
        "train_input, test_input,train_target, test_target = train_test_split(\n",
        "    fish_input,fish_target, random_state=42\n",
        ")"
      ],
      "metadata": {
        "id": "Yb47Fxbj65LB"
      },
      "execution_count": null,
      "outputs": []
    },
    {
      "cell_type": "code",
      "source": [
        "#특성을 표준화 전처리하기\n",
        "from sklearn.preprocessing import StandardScaler\n",
        "ss = StandardScaler()\n",
        "ss.fit(train_input)\n",
        "train_scaled = ss.transform(train_input)\n",
        "test_scaled = ss.transform(test_input)"
      ],
      "metadata": {
        "id": "U8NELHkx65Ne"
      },
      "execution_count": null,
      "outputs": []
    },
    {
      "cell_type": "code",
      "source": [
        "from sklearn.linear_model import SGDClassifier"
      ],
      "metadata": {
        "id": "14daeF51RRYn"
      },
      "execution_count": null,
      "outputs": []
    },
    {
      "cell_type": "code",
      "source": [
        "# loss : 손실 함수의 종류 지정, max_iter : 수행할 에포크 횟수\n",
        "sc = SGDClassifier(loss='log',max_iter=10,random_state=42)\n",
        "sc.fit(train_scaled,train_target)\n",
        "print(sc.score(train_scaled, train_target))\n",
        "print(sc.score(test_scaled,test_target))"
      ],
      "metadata": {
        "colab": {
          "base_uri": "https://localhost:8080/"
        },
        "id": "EGDj0UcD65Pa",
        "outputId": "5bcd0517-4dfc-4a7e-8ed4-a3c85bb4ee2a"
      },
      "execution_count": null,
      "outputs": [
        {
          "output_type": "stream",
          "name": "stdout",
          "text": [
            "0.773109243697479\n",
            "0.775\n"
          ]
        },
        {
          "output_type": "stream",
          "name": "stderr",
          "text": [
            "/usr/local/lib/python3.7/dist-packages/sklearn/linear_model/_stochastic_gradient.py:700: ConvergenceWarning: Maximum number of iteration reached before convergence. Consider increasing max_iter to improve the fit.\n",
            "  ConvergenceWarning,\n"
          ]
        }
      ]
    },
    {
      "cell_type": "markdown",
      "source": [
        "결과를 보면 정확도가 낮게 나왔다. 에포크 10번이 작다는걸 예측 할 수 있다."
      ],
      "metadata": {
        "id": "Fn5hWoZzH84u"
      }
    },
    {
      "cell_type": "markdown",
      "source": [
        "**에포크를 한번 더 실행하여 훈련하기**\n"
      ],
      "metadata": {
        "id": "DlEHuv_aIlgK"
      }
    },
    {
      "cell_type": "markdown",
      "source": [
        "***모델을 이어서 훈련할 때는 partial_fit() 메서드를 사용한다.***\n",
        "\n",
        "\n",
        "\n",
        "\n",
        "\n",
        "\n",
        "\n"
      ],
      "metadata": {
        "id": "wokaAx3mIOdp"
      }
    },
    {
      "cell_type": "code",
      "source": [
        "sc.partial_fit(train_scaled,train_target)\n",
        "print(sc.score(train_scaled, train_target))\n",
        "print(sc.score(test_scaled,test_target))"
      ],
      "metadata": {
        "colab": {
          "base_uri": "https://localhost:8080/"
        },
        "id": "Vkb4-ST865Rv",
        "outputId": "ade952c8-7950-43ee-c5b8-7c3455e6c3a0"
      },
      "execution_count": null,
      "outputs": [
        {
          "output_type": "stream",
          "name": "stdout",
          "text": [
            "0.8151260504201681\n",
            "0.85\n"
          ]
        }
      ]
    },
    {
      "cell_type": "markdown",
      "source": [
        "에포크를 한번 더 실행하니 정확도가 향상되었다."
      ],
      "metadata": {
        "id": "49MlkpYnI9JS"
      }
    },
    {
      "cell_type": "code",
      "source": [
        "sc.partial_fit(train_scaled,train_target)\n",
        "print(sc.score(train_scaled, train_target))\n",
        "print(sc.score(test_scaled,test_target))"
      ],
      "metadata": {
        "colab": {
          "base_uri": "https://localhost:8080/"
        },
        "id": "fsD5Nv1xJAvu",
        "outputId": "ce4ee901-cee4-4f41-fa09-a3889fdd7c88"
      },
      "execution_count": null,
      "outputs": [
        {
          "output_type": "stream",
          "name": "stdout",
          "text": [
            "0.9411764705882353\n",
            "0.925\n"
          ]
        }
      ]
    },
    {
      "cell_type": "markdown",
      "source": [
        "한번 더 실행 하니 정확도가 더 향상되었다."
      ],
      "metadata": {
        "id": "EqODeejUJDGu"
      }
    },
    {
      "cell_type": "code",
      "source": [
        "sc.partial_fit(train_scaled,train_target)\n",
        "print(sc.score(train_scaled, train_target))\n",
        "print(sc.score(test_scaled,test_target))"
      ],
      "metadata": {
        "colab": {
          "base_uri": "https://localhost:8080/"
        },
        "id": "N2mBGUDuJHwG",
        "outputId": "d15fd9cc-2a6d-4d4d-fbce-21b50803b4a8"
      },
      "execution_count": null,
      "outputs": [
        {
          "output_type": "stream",
          "name": "stdout",
          "text": [
            "0.9495798319327731\n",
            "0.925\n"
          ]
        }
      ]
    },
    {
      "cell_type": "code",
      "source": [
        "sc.partial_fit(train_scaled,train_target)\n",
        "print(sc.score(train_scaled, train_target))\n",
        "print(sc.score(test_scaled,test_target))"
      ],
      "metadata": {
        "colab": {
          "base_uri": "https://localhost:8080/"
        },
        "id": "EFg6CYiTJKuy",
        "outputId": "1922cc3b-b051-419c-85d2-3618649518dc"
      },
      "execution_count": null,
      "outputs": [
        {
          "output_type": "stream",
          "name": "stdout",
          "text": [
            "0.9495798319327731\n",
            "0.925\n"
          ]
        }
      ]
    },
    {
      "cell_type": "markdown",
      "source": [
        "더이상 정확도가 향상되지 않는것을 보니 30번의 에포크가 적당한것을 예측할수있었다."
      ],
      "metadata": {
        "id": "wEqsib7PJNzP"
      }
    },
    {
      "cell_type": "markdown",
      "source": [
        ">에포크와 과대/과소적합\n"
      ],
      "metadata": {
        "id": "YuI9pEbBF0_1"
      }
    },
    {
      "cell_type": "markdown",
      "source": [
        "에포크 횟수가 적어 모델이 훈련세트를 덜 학습하면 과소적합, 너무 많은 에포크 횟수는 과대적합된 모델일 가능성이 있다."
      ],
      "metadata": {
        "id": "qjqNC_WOJZVD"
      }
    },
    {
      "cell_type": "code",
      "source": [
        "import numpy as np"
      ],
      "metadata": {
        "id": "Jb2UMfjWWJH7"
      },
      "execution_count": null,
      "outputs": []
    },
    {
      "cell_type": "code",
      "source": [
        "sc = SGDClassifier(loss='log',random_state=42)\n",
        "train_score = []\n",
        "test_score = []\n",
        "classes = np.unique(train_target)  # 7개의 생선의 종류\n",
        "#partial_fit() 메서드만 사용하려면 훈련 세트의 전체클래스의 레이블을 전달해 주어야 함"
      ],
      "metadata": {
        "id": "_6Cfi0OgTCsL"
      },
      "execution_count": null,
      "outputs": []
    },
    {
      "cell_type": "markdown",
      "source": [
        "각 횟수별로 훈련세트와 테스트세트의 점수를 train_score test_score 리스트에 넣는다.\n",
        "\n"
      ],
      "metadata": {
        "id": "LjlI0yY-JlQl"
      }
    },
    {
      "cell_type": "code",
      "source": [
        "for _ in range(0, 300):\n",
        "    sc.partial_fit(train_scaled, train_target, classes=classes)\n",
        "    \n",
        "    train_score.append(sc.score(train_scaled, train_target))\n",
        "    test_score.append(sc.score(test_scaled, test_target))"
      ],
      "metadata": {
        "id": "zXKm4xrTWk8s"
      },
      "execution_count": null,
      "outputs": []
    },
    {
      "cell_type": "code",
      "source": [
        "import matplotlib.pyplot as plt\n",
        "plt.plot(train_score)\n",
        "plt.plot(test_score)\n",
        "plt.xlabel('eqoch')\n",
        "plt.ylabel('accuracy')\n",
        "plt.show()"
      ],
      "metadata": {
        "colab": {
          "base_uri": "https://localhost:8080/",
          "height": 279
        },
        "id": "xx8wvv-3XOVP",
        "outputId": "557d23d7-ae07-476b-9485-99e615abda1f"
      },
      "execution_count": null,
      "outputs": [
        {
          "output_type": "display_data",
          "data": {
            "text/plain": [
              "<Figure size 432x288 with 1 Axes>"
            ],
            "image/png": "[encoded data removed]"
          },
          "metadata": {
            "needs_background": "light"
          }
        }
      ]
    },
    {
      "cell_type": "code",
      "source": [
        "sc = SGDClassifier(loss='log', max_iter=100, tol=None, random_state=42)\n",
        "sc.fit(train_scaled, train_target)\n",
        "\n",
        "print(sc.score(train_scaled, train_target))\n",
        "print(sc.score(test_scaled, test_target))"
      ],
      "metadata": {
        "colab": {
          "base_uri": "https://localhost:8080/"
        },
        "id": "8Pjh3DgAGIFx",
        "outputId": "bd2b8673-ca63-4558-98f0-35663b635b48"
      },
      "execution_count": null,
      "outputs": [
        {
          "output_type": "stream",
          "name": "stdout",
          "text": [
            "0.957983193277311\n",
            "0.925\n"
          ]
        }
      ]
    },
    {
      "cell_type": "code",
      "source": [
        "sc = SGDClassifier(loss='hinge', max_iter=100, tol=None, random_state=42)\n",
        "sc.fit(train_scaled, train_target)\n",
        "\n",
        "print(sc.score(train_scaled, train_target))\n",
        "print(sc.score(test_scaled, test_target))"
      ],
      "metadata": {
        "colab": {
          "base_uri": "https://localhost:8080/"
        },
        "id": "-gkOSqBcGDNZ",
        "outputId": "582aa1d9-5cfd-46f1-aa04-531b4cccad7a"
      },
      "execution_count": null,
      "outputs": [
        {
          "output_type": "stream",
          "name": "stdout",
          "text": [
            "0.9495798319327731\n",
            "0.925\n"
          ]
        }
      ]
    },
    {
      "cell_type": "markdown",
      "source": [
        "그래프에 따라서 에포크 횟수 100번 정도가 적절한 반복 횟수임을 알 수 있다.\n",
        "\n",
        "** *SGBClassifier 는 일정 에포크 동안 성능이 향상되지 않으면 더 훈련하지 않고 자동으로 멈춘다. tol 매개변수에서 향상될 최솟값을 지정할 수 있는데, None 이라면 자동으로 멈추지 않고 max_iter 만큼 무조건 반복한다.\n",
        "sc = SGDClassifier(loss='log', max_iter=100, tol=None)* **\n",
        "\n",
        "loss 매개변수의 기본값은 hinge 이며 , 힌지 손실은 서포트 벡터 머신 알고리즘을 위한 손실 함수이다."
      ],
      "metadata": {
        "id": "IUZId5WUJzBl"
      }
    }
  ]
}