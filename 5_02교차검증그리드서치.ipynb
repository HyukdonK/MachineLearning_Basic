{
  "nbformat": 4,
  "nbformat_minor": 0,
  "metadata": {
    "colab": {
      "name": "5-02교차검증그리드서치.ipynb",
      "provenance": [],
      "collapsed_sections": [],
      "authorship_tag": "ABX9TyOjRcApzi0Yexx9jNGruheJ",
      "include_colab_link": true
    },
    "kernelspec": {
      "name": "python3",
      "display_name": "Python 3"
    },
    "language_info": {
      "name": "python"
    }
  },
  "cells": [
    {
      "cell_type": "markdown",
      "metadata": {
        "id": "view-in-github",
        "colab_type": "text"
      },
      "source": [
        "<a href=\"https://colab.research.google.com/github/KOISSYK/machine-learning/blob/main/5_02%EA%B5%90%EC%B0%A8%EA%B2%80%EC%A6%9D%EA%B7%B8%EB%A6%AC%EB%93%9C%EC%84%9C%EC%B9%98.ipynb\" target=\"_parent\"><img src=\"https://colab.research.google.com/assets/colab-badge.svg\" alt=\"Open In Colab\"/></a>"
      ]
    },
    {
      "cell_type": "markdown",
      "source": [
        "# **검증 세트**"
      ],
      "metadata": {
        "id": "KvDHa9FPqbm0"
      }
    },
    {
      "cell_type": "markdown",
      "source": [
        "csv파일을 읽어 data, target numpy 배열을 준비한다.\n",
        "\n"
      ],
      "metadata": {
        "id": "4ytsPKSBrIea"
      }
    },
    {
      "cell_type": "code",
      "execution_count": null,
      "metadata": {
        "id": "K9AbN-RezWu1"
      },
      "outputs": [],
      "source": [
        "import pandas as pd\n",
        "\n",
        "wine = pd.read_csv('https://bit.ly/wine_csv_data')"
      ]
    },
    {
      "cell_type": "code",
      "source": [
        "data = wine[['alcohol', 'sugar', 'pH']].to_numpy()\n",
        "target = wine['class'].to_numpy()"
      ],
      "metadata": {
        "id": "lhPxWz2CzYXj"
      },
      "execution_count": null,
      "outputs": []
    },
    {
      "cell_type": "markdown",
      "source": [
        "훈련·테스트·검증세트로 나누기"
      ],
      "metadata": {
        "id": "LC0hGYxErMm-"
      }
    },
    {
      "cell_type": "code",
      "source": [
        "from sklearn.model_selection import train_test_split\n",
        "\n",
        "train_input, test_input, train_target, test_target = train_test_split(\n",
        "    data, target, test_size=0.2, random_state=42) #test_size 매개변수를 0.2로 정해 훈련세트의 20% 정도를 검증세트로 만든다."
      ],
      "metadata": {
        "id": "ySsx0rYizYZ_"
      },
      "execution_count": null,
      "outputs": []
    },
    {
      "cell_type": "code",
      "source": [
        "sub_input, val_input, sub_target, val_target = train_test_split(\n",
        "    train_input, train_target, test_size=0.2, random_state=42)"
      ],
      "metadata": {
        "id": "fzbI3iFdzYcW"
      },
      "execution_count": null,
      "outputs": []
    },
    {
      "cell_type": "code",
      "source": [
        "print(sub_input.shape, val_input.shape)"
      ],
      "metadata": {
        "colab": {
          "base_uri": "https://localhost:8080/"
        },
        "id": "cNvquA19zYe9",
        "outputId": "fe7de19d-4ab4-4dc3-d5be-49ffef4950aa"
      },
      "execution_count": null,
      "outputs": [
        {
          "output_type": "stream",
          "name": "stdout",
          "text": [
            "(4157, 3) (1040, 3)\n"
          ]
        }
      ]
    },
    {
      "cell_type": "markdown",
      "source": [
        "검증세트로 모델 평가하기"
      ],
      "metadata": {
        "id": "7L8VrkOdrXqY"
      }
    },
    {
      "cell_type": "code",
      "source": [
        "from sklearn.tree import DecisionTreeClassifier\n",
        "\n",
        "dt = DecisionTreeClassifier(random_state=42)\n",
        "dt.fit(sub_input, sub_target)\n",
        "\n",
        "print(dt.score(sub_input, sub_target))\n",
        "print(dt.score(val_input, val_target))"
      ],
      "metadata": {
        "colab": {
          "base_uri": "https://localhost:8080/"
        },
        "id": "fh1jxkUWzYhD",
        "outputId": "74c8e690-1c2e-418c-9ddf-145fc9de6ea2"
      },
      "execution_count": null,
      "outputs": [
        {
          "output_type": "stream",
          "name": "stdout",
          "text": [
            "0.9971133028626413\n",
            "0.864423076923077\n"
          ]
        }
      ]
    },
    {
      "cell_type": "markdown",
      "source": [
        "훈련세트에 과대적합된 것을 확인할 수 있다.\n",
        "\n"
      ],
      "metadata": {
        "id": "09_LEhhsreFq"
      }
    },
    {
      "cell_type": "markdown",
      "source": [
        "# **교차 검증**"
      ],
      "metadata": {
        "id": "FSH1YKDIqnEd"
      }
    },
    {
      "cell_type": "markdown",
      "source": [
        "위의 방식으로 검증 세트를 만든다면 훈련세트가 줄어든다.\n",
        "많은 데이터를 훈련에 사용하면 좋은 모델이 만들어지지만, 검증세트를 너무 조금 떼어놓는다면 검증점수가 들쑥날쑥하다.\n",
        "교차 검증을 사용한다면 안정적인 점수를 얻고 훈련에 더 많은 데이터를 사용할 수 있다.\n",
        "\n",
        "교차검증은 검증세트를 떼어 평가하는 과정을 여러 번 반복한다.\n",
        "이후 이 점수를 평균화하여 최종 검증 점수를 얻는다.\n",
        "\n"
      ],
      "metadata": {
        "id": "i9CV_DLvrh4N"
      }
    },
    {
      "cell_type": "code",
      "source": [
        "from sklearn.model_selection import cross_validate\n",
        "\n",
        "scores = cross_validate(dt, train_input, train_target)\n",
        "print(scores)"
      ],
      "metadata": {
        "colab": {
          "base_uri": "https://localhost:8080/"
        },
        "id": "RO3PkMP0zYi4",
        "outputId": "62b2d0be-83a7-4e09-bc58-af8a2c3977e6"
      },
      "execution_count": null,
      "outputs": [
        {
          "output_type": "stream",
          "name": "stdout",
          "text": [
            "{'fit_time': array([0.01979899, 0.00853491, 0.00749588, 0.00730348, 0.0069952 ]), 'score_time': array([0.00125074, 0.0007844 , 0.00071812, 0.0006845 , 0.00071263]), 'test_score': array([0.86923077, 0.84615385, 0.87680462, 0.84889317, 0.83541867])}\n"
          ]
        }
      ]
    },
    {
      "cell_type": "markdown",
      "source": [
        "이 함수는 fit_time, score_time, test_score 키를 가진 딕셔너리를 반환한다.\n",
        "\n",
        "교차 검증의 최종 점수는 test_score 키에 담긴 5개의 점수를 평균하여 얻는다."
      ],
      "metadata": {
        "id": "gAB6hXBcr3cO"
      }
    },
    {
      "cell_type": "markdown",
      "source": [
        ">훈련 세트를 k개의 부분으로 나누어 교차검증을 수행하는 것을 k-폴드 교차 검증이라고 한다.\n",
        "\n"
      ],
      "metadata": {
        "id": "5RZ6afaTrn9m"
      }
    },
    {
      "cell_type": "markdown",
      "source": [
        "cross_validate() 교차 검증 함수를 사용한다.\n",
        "기본적으로 5-폴드 교차 검증을 수행하며, cv매개변수에서 폴드 수를 바꿀 수 있다."
      ],
      "metadata": {
        "id": "jPbOKOEyrtlz"
      }
    },
    {
      "cell_type": "code",
      "source": [
        "import numpy as np\n",
        "\n",
        "print(np.mean(scores['test_score']))\n"
      ],
      "metadata": {
        "colab": {
          "base_uri": "https://localhost:8080/"
        },
        "id": "yVzAeS_RzYkj",
        "outputId": "1e700536-841a-4380-c3ba-9384c70435b5"
      },
      "execution_count": null,
      "outputs": [
        {
          "output_type": "stream",
          "name": "stdout",
          "text": [
            "0.855300214703487\n"
          ]
        }
      ]
    },
    {
      "cell_type": "markdown",
      "source": [
        "교차 검증으로모델에서 얻을수 있는 최선의 검증 점수를 가늠할 수 있다.\n",
        "\n",
        "여기서는 train_test_split로 훈련세트를 섞었지만,\n",
        "cross_validate() 함수는 훈련세트를 섞어 폴드를 나누지 않는다.\n",
        "\n",
        "교차검증을 할 때 훈련세트를 섞으려면 분할기를 이용한다.\n",
        "cross_validate()는 회귀 모델이라면 KFold분할기를, 분류모델이라면 StratifiedKFold를 사용한다."
      ],
      "metadata": {
        "id": "LzDCVzggr83-"
      }
    },
    {
      "cell_type": "code",
      "source": [
        "from sklearn.model_selection import StratifiedKFold\n",
        "\n",
        "scores = cross_validate(dt, train_input, train_target, cv=StratifiedKFold())\n",
        "print(np.mean(scores['test_score']))"
      ],
      "metadata": {
        "colab": {
          "base_uri": "https://localhost:8080/"
        },
        "id": "F9EK_QoAzYmw",
        "outputId": "3eb3b056-f56d-49a3-afe2-a1d9fd0a2f8c"
      },
      "execution_count": null,
      "outputs": [
        {
          "output_type": "stream",
          "name": "stdout",
          "text": [
            "0.855300214703487\n"
          ]
        }
      ]
    },
    {
      "cell_type": "markdown",
      "source": [
        "훈련세트를 섞고 10-폴드 교차 검증을 수행하려면 아래와 같다.\n",
        "\n"
      ],
      "metadata": {
        "id": "dTfCIGlDr_3A"
      }
    },
    {
      "cell_type": "code",
      "source": [
        "splitter = StratifiedKFold(n_splits=10, shuffle=True, random_state=42)\n",
        "scores = cross_validate(dt, train_input, train_target, cv=splitter)\n",
        "print(np.mean(scores['test_score']))"
      ],
      "metadata": {
        "colab": {
          "base_uri": "https://localhost:8080/"
        },
        "id": "e2Ngt6bszYom",
        "outputId": "066e2efe-fdc0-4c3f-ce16-8b189bb6d525"
      },
      "execution_count": null,
      "outputs": [
        {
          "output_type": "stream",
          "name": "stdout",
          "text": [
            "0.8574181117533719\n"
          ]
        }
      ]
    },
    {
      "cell_type": "markdown",
      "source": [
        ""
      ],
      "metadata": {
        "id": "1uLTnPMarcwO"
      }
    },
    {
      "cell_type": "markdown",
      "source": [
        "# **하이퍼파라미터 튜닝**"
      ],
      "metadata": {
        "id": "xl2TnEo8qxmm"
      }
    },
    {
      "cell_type": "markdown",
      "source": [
        "머신러닝 모델이 파라미터를 학습할 수 없어 사용자가 지정해야만 하는 파라미터를 하이퍼파라미터라고 한다.\n",
        "\n",
        "매개변수가 여러 개가 있다면 이 여러 개의 매개변수를 동시에 바꿔가며 최적의 값을 찾아야 한다.\n",
        "\n",
        "사이킷런에서는 이를 해결하기 위한 그리드서치를 제공한다."
      ],
      "metadata": {
        "id": "NTFYgYSYsCsS"
      }
    },
    {
      "cell_type": "code",
      "source": [
        "from sklearn.model_selection import GridSearchCV\n",
        "\n",
        "params = {'min_impurity_decrease': [0.0001, 0.0002, 0.0003, 0.0004, 0.0005]}"
      ],
      "metadata": {
        "id": "ZnD7dgwdzYsR"
      },
      "execution_count": 1,
      "outputs": []
    },
    {
      "cell_type": "markdown",
      "source": [
        "### **그리드 서치** \n",
        "\n",
        "\n"
      ],
      "metadata": {
        "id": "gmNYn3ExsGHi"
      }
    },
    {
      "cell_type": "markdown",
      "source": [
        "사이킷런의 GridSearchCV는 하이퍼파라미터 탐색과 교차검증을 한번에 수행한다.\n",
        "\n",
        "결정 트리 모델에서 min_impurity_decrease 매개변수의 최적값을 찾아본다."
      ],
      "metadata": {
        "id": "7Lk8HbposOLY"
      }
    },
    {
      "cell_type": "code",
      "source": [
        "gs = GridSearchCV(DecisionTreeClassifier(random_state=42), params, n_jobs=-1)\n",
        "#모델과 파라미터와 사용할 cpu코어 개수 전달(전부 사용)"
      ],
      "metadata": {
        "id": "lWG_fs51zpEU"
      },
      "execution_count": null,
      "outputs": []
    },
    {
      "cell_type": "code",
      "source": [
        "gs.fit(train_input, train_target)\n",
        "#cv 매개변수 기본값은 5, 5폴드 교차 검증 수행, 총 25번 계산"
      ],
      "metadata": {
        "colab": {
          "base_uri": "https://localhost:8080/"
        },
        "id": "uLmfiF9kzpGx",
        "outputId": "d60c3324-fb81-4126-e8c1-5a107fc33c3c"
      },
      "execution_count": null,
      "outputs": [
        {
          "output_type": "execute_result",
          "data": {
            "text/plain": [
              "GridSearchCV(estimator=DecisionTreeClassifier(random_state=42), n_jobs=-1,\n",
              "             param_grid={'min_impurity_decrease': [0.0001, 0.0002, 0.0003,\n",
              "                                                   0.0004, 0.0005]})"
            ]
          },
          "metadata": {},
          "execution_count": 21
        }
      ]
    },
    {
      "cell_type": "markdown",
      "source": [
        "그리드서치는 훈련이 끝나면 25개의 모델 중 검증 점수가 가장 높은 매개변수 조합으로 모델을 다시 훈련한다.\n",
        "\n",
        "이 모델은 gs객체의 best_estimator_ 속성에 저장된다.\n",
        "이 모델을 일반 결정 트리처럼 사용할 수 있다.\n",
        "\n"
      ],
      "metadata": {
        "id": "alvQpO9Bsegk"
      }
    },
    {
      "cell_type": "code",
      "source": [
        "dt = gs.best_estimator_\n",
        "print(dt.score(train_input, train_target))"
      ],
      "metadata": {
        "colab": {
          "base_uri": "https://localhost:8080/"
        },
        "id": "qBHOFs5YzpJi",
        "outputId": "3e23f3d7-1d0f-4ce7-ba5f-d3b00c27bbf7"
      },
      "execution_count": null,
      "outputs": [
        {
          "output_type": "stream",
          "name": "stdout",
          "text": [
            "0.9615162593804117\n"
          ]
        }
      ]
    },
    {
      "cell_type": "markdown",
      "source": [
        "최적의 매개변수는 best_params_에,\n",
        "각 매개변수에서의 교차검증의 평균점수는 cv_result_속성의 mean_test_score에 저장된다.\n",
        "\n"
      ],
      "metadata": {
        "id": "pLicdkYOshRS"
      }
    },
    {
      "cell_type": "code",
      "source": [
        "print(gs.best_params_)"
      ],
      "metadata": {
        "colab": {
          "base_uri": "https://localhost:8080/"
        },
        "id": "o4DiHRsEzpL-",
        "outputId": "b0f6e64b-611a-4739-9cfd-cb9fc68a8843"
      },
      "execution_count": null,
      "outputs": [
        {
          "output_type": "stream",
          "name": "stdout",
          "text": [
            "{'min_impurity_decrease': 0.0001}\n"
          ]
        }
      ]
    },
    {
      "cell_type": "markdown",
      "source": [
        "넘파이 argmax() 함수로 가장 큰 값의 인덱스를 추출하여 매개변수를 출력할 수 있다."
      ],
      "metadata": {
        "id": "RYeW-UwfslkY"
      }
    },
    {
      "cell_type": "code",
      "source": [
        "print(gs.cv_results_['mean_test_score'])\n"
      ],
      "metadata": {
        "colab": {
          "base_uri": "https://localhost:8080/"
        },
        "id": "gs5Ce4P-zucZ",
        "outputId": "cbcb5f79-a01f-4cd5-be14-a2f1ba1d2952"
      },
      "execution_count": null,
      "outputs": [
        {
          "output_type": "stream",
          "name": "stdout",
          "text": [
            "[0.86819297 0.86453617 0.86492226 0.86780891 0.86761605]\n"
          ]
        }
      ]
    },
    {
      "cell_type": "code",
      "source": [
        "best_index = np.argmax(gs.cv_results_['mean_test_score']) # 가장 큰 값의 인덱스 추출"
      ],
      "metadata": {
        "colab": {
          "base_uri": "https://localhost:8080/"
        },
        "id": "vO-Dlv8Xzui8",
        "outputId": "e2f5c668-2421-4319-8ac0-1b2965699abe"
      },
      "execution_count": null,
      "outputs": [
        {
          "output_type": "stream",
          "name": "stdout",
          "text": [
            "{'min_impurity_decrease': 0.0001}\n"
          ]
        }
      ]
    },
    {
      "cell_type": "markdown",
      "source": [
        "더 복잡한 매개변수 조합도 탐색할 수 있다.\n",
        "\n"
      ],
      "metadata": {
        "id": "4-zqZ0xhstXS"
      }
    },
    {
      "cell_type": "code",
      "source": [
        "params = {'min_impurity_decrease': np.arange(0.0001, 0.001, 0.0001),\n",
        "          'max_depth': range(5, 20, 1),\n",
        "          'min_samples_split': range(2, 100, 10)\n",
        "          }"
      ],
      "metadata": {
        "id": "Gcvhpd16zuls"
      },
      "execution_count": null,
      "outputs": []
    },
    {
      "cell_type": "markdown",
      "source": [
        "이 매개변수로 수행할 교차 검증 횟수는 9 x 15 x 10 = 1350 개 이다.\n",
        "5-폴드 교차 검증을 수행하므로 만들어지는 모델은 6750 개 이다."
      ],
      "metadata": {
        "id": "FBWfRMEvswWP"
      }
    },
    {
      "cell_type": "code",
      "source": [
        "gs = GridSearchCV(DecisionTreeClassifier(random_state=42), params, n_jobs=-1)\n",
        "gs.fit(train_input, train_target)"
      ],
      "metadata": {
        "colab": {
          "base_uri": "https://localhost:8080/"
        },
        "id": "hBS3mJwszunq",
        "outputId": "217e87cf-fc6d-4408-9a07-cbb1ea049aec"
      },
      "execution_count": null,
      "outputs": [
        {
          "output_type": "execute_result",
          "data": {
            "text/plain": [
              "GridSearchCV(estimator=DecisionTreeClassifier(random_state=42), n_jobs=-1,\n",
              "             param_grid={'max_depth': range(5, 20),\n",
              "                         'min_impurity_decrease': array([0.0001, 0.0002, 0.0003, 0.0004, 0.0005, 0.0006, 0.0007, 0.0008,\n",
              "       0.0009]),\n",
              "                         'min_samples_split': range(2, 100, 10)})"
            ]
          },
          "metadata": {},
          "execution_count": 27
        }
      ]
    },
    {
      "cell_type": "code",
      "source": [
        "print(gs.best_params_)"
      ],
      "metadata": {
        "colab": {
          "base_uri": "https://localhost:8080/"
        },
        "id": "nUbTtNgZzz1F",
        "outputId": "62eba68b-31be-44ae-d575-3421c8b3b66d"
      },
      "execution_count": null,
      "outputs": [
        {
          "output_type": "stream",
          "name": "stdout",
          "text": [
            "{'max_depth': 14, 'min_impurity_decrease': 0.0004, 'min_samples_split': 12}\n"
          ]
        }
      ]
    },
    {
      "cell_type": "code",
      "source": [
        "print(np.max(gs.cv_results_['mean_test_score']))# 최상의 교차 점수"
      ],
      "metadata": {
        "colab": {
          "base_uri": "https://localhost:8080/"
        },
        "id": "lsBaBR3Jzz_z",
        "outputId": "004cef8f-dfaf-452e-9d3f-f408c7090890"
      },
      "execution_count": null,
      "outputs": [
        {
          "output_type": "stream",
          "name": "stdout",
          "text": [
            "0.8683865773302731\n"
          ]
        }
      ]
    },
    {
      "cell_type": "markdown",
      "source": [
        "# **랜덤 서치**"
      ],
      "metadata": {
        "id": "TRaf_Z80q4gr"
      }
    },
    {
      "cell_type": "markdown",
      "source": [
        "매개변수의 값이 수치일 때, 값의 범위나 간격을 미리 정하기 어렵거나, 너무 많은 매개변수 조건이 있어 그리드 서치를 오래 해야된다면 랜덤서치를 사용하면 좋다.\n",
        "\n",
        "랜덤 서치에는 매개변수를 샘플링할 수 있는 확률 분포 객체를 전달한다.\n",
        "싸이파이에서 확률 분포 클래스를 임포트한다.\n",
        "\n",
        "uniform(), randint()로 실수값과 정수값을 샘플링한다."
      ],
      "metadata": {
        "id": "0KFEZ6K1s30f"
      }
    },
    {
      "cell_type": "code",
      "source": [
        "from scipy.stats import uniform, randint"
      ],
      "metadata": {
        "id": "-rGB5iHUz4d0"
      },
      "execution_count": null,
      "outputs": []
    },
    {
      "cell_type": "code",
      "source": [
        "rgen = randint(0, 10)\n",
        "rgen.rvs(10)"
      ],
      "metadata": {
        "colab": {
          "base_uri": "https://localhost:8080/"
        },
        "id": "rarU1d8Pz4gE",
        "outputId": "00be0171-8ba7-4b32-c3fa-86f830f1be69"
      },
      "execution_count": null,
      "outputs": [
        {
          "output_type": "execute_result",
          "data": {
            "text/plain": [
              "array([9, 1, 9, 5, 2, 1, 8, 2, 9, 9])"
            ]
          },
          "metadata": {},
          "execution_count": 31
        }
      ]
    },
    {
      "cell_type": "code",
      "source": [
        "np.unique(rgen.rvs(1000), return_counts=True)"
      ],
      "metadata": {
        "colab": {
          "base_uri": "https://localhost:8080/"
        },
        "id": "h5IJYlsNz4iD",
        "outputId": "0e450473-9915-40de-f929-9640284d136f"
      },
      "execution_count": null,
      "outputs": [
        {
          "output_type": "execute_result",
          "data": {
            "text/plain": [
              "(array([0, 1, 2, 3, 4, 5, 6, 7, 8, 9]),\n",
              " array([ 85, 108, 110, 106, 104, 101,  85, 105,  98,  98]))"
            ]
          },
          "metadata": {},
          "execution_count": 32
        }
      ]
    },
    {
      "cell_type": "code",
      "source": [
        "ugen = uniform(0, 1)\n",
        "ugen.rvs(10)"
      ],
      "metadata": {
        "colab": {
          "base_uri": "https://localhost:8080/"
        },
        "id": "lpHg90lyz4k6",
        "outputId": "e244a427-1201-459f-cdf5-77a520fec2b0"
      },
      "execution_count": null,
      "outputs": [
        {
          "output_type": "execute_result",
          "data": {
            "text/plain": [
              "array([0.78499503, 0.22484471, 0.23220889, 0.83141582, 0.12149292,\n",
              "       0.63370666, 0.96115729, 0.95638886, 0.12140557, 0.3395664 ])"
            ]
          },
          "metadata": {},
          "execution_count": 33
        }
      ]
    },
    {
      "cell_type": "code",
      "source": [
        "params = {'min_impurity_decrease': uniform(0.0001, 0.001),\n",
        "          'max_depth': randint(20, 50),\n",
        "          'min_samples_split': randint(2, 25),\n",
        "          'min_samples_leaf': randint(1, 25),\n",
        "          }"
      ],
      "metadata": {
        "id": "uax0enh_z9QV"
      },
      "execution_count": null,
      "outputs": []
    },
    {
      "cell_type": "markdown",
      "source": [
        "n_iter 매개변수로 샘플링 횟수를 지정할 수 있다."
      ],
      "metadata": {
        "id": "_lYggXR0s8gN"
      }
    },
    {
      "cell_type": "code",
      "source": [
        "from sklearn.model_selection import RandomizedSearchCV\n",
        "\n",
        "gs = RandomizedSearchCV(DecisionTreeClassifier(random_state=42), params, \n",
        "                        n_iter=100, n_jobs=-1, random_state=42)\n",
        "gs.fit(train_input, train_target)"
      ],
      "metadata": {
        "colab": {
          "base_uri": "https://localhost:8080/"
        },
        "id": "jr---TbHz_9T",
        "outputId": "e81d2a21-4c6d-42bd-e4ad-187d3bebadb9"
      },
      "execution_count": null,
      "outputs": [
        {
          "output_type": "execute_result",
          "data": {
            "text/plain": [
              "RandomizedSearchCV(estimator=DecisionTreeClassifier(random_state=42),\n",
              "                   n_iter=100, n_jobs=-1,\n",
              "                   param_distributions={'max_depth': <scipy.stats._distn_infrastructure.rv_frozen object at 0x7fc42d2d8a10>,\n",
              "                                        'min_impurity_decrease': <scipy.stats._distn_infrastructure.rv_frozen object at 0x7fc42d2d8590>,\n",
              "                                        'min_samples_leaf': <scipy.stats._distn_infrastructure.rv_frozen object at 0x7fc42d2d8ed0>,\n",
              "                                        'min_samples_split': <scipy.stats._distn_infrastructure.rv_frozen object at 0x7fc42d2d8850>},\n",
              "                   random_state=42)"
            ]
          },
          "metadata": {},
          "execution_count": 35
        }
      ]
    },
    {
      "cell_type": "code",
      "source": [
        "print(gs.best_params_)"
      ],
      "metadata": {
        "colab": {
          "base_uri": "https://localhost:8080/"
        },
        "id": "9GtznxNJ0B26",
        "outputId": "392d88b3-8fc9-4475-f982-1c7d4e50c340"
      },
      "execution_count": null,
      "outputs": [
        {
          "output_type": "stream",
          "name": "stdout",
          "text": [
            "{'max_depth': 39, 'min_impurity_decrease': 0.00034102546602601173, 'min_samples_leaf': 7, 'min_samples_split': 13}\n"
          ]
        }
      ]
    },
    {
      "cell_type": "code",
      "source": [
        "print(np.max(gs.cv_results_['mean_test_score']))\n"
      ],
      "metadata": {
        "colab": {
          "base_uri": "https://localhost:8080/"
        },
        "id": "KSH_JsQM0B55",
        "outputId": "08d682b5-a143-4e3c-fe35-e5e270113e24"
      },
      "execution_count": null,
      "outputs": [
        {
          "output_type": "stream",
          "name": "stdout",
          "text": [
            "0.8695428296438884\n"
          ]
        }
      ]
    },
    {
      "cell_type": "code",
      "source": [
        "dt = gs.best_estimator_\n",
        "\n",
        "print(dt.score(test_input, test_target))"
      ],
      "metadata": {
        "id": "tnjm9XLV0MSB"
      },
      "execution_count": null,
      "outputs": []
    },
    {
      "cell_type": "markdown",
      "source": [
        "최적의 모델로 테스트세트의 성능을 확인할 수 있다.\n",
        "\n"
      ],
      "metadata": {
        "id": "ZBAhCz7BtAQl"
      }
    },
    {
      "cell_type": "markdown",
      "source": [
        "# **확인문제**"
      ],
      "metadata": {
        "id": "XqzcoDC9q97R"
      }
    },
    {
      "cell_type": "code",
      "source": [
        "gs = RandomizedSearchCV(DecisionTreeClassifier(splitter='random', random_state=42), params, \n",
        "                        n_iter=100, n_jobs=-1, random_state=42)\n",
        "gs.fit(train_input, train_target)"
      ],
      "metadata": {
        "id": "Gq4QrDGL0ZiD"
      },
      "execution_count": null,
      "outputs": []
    },
    {
      "cell_type": "code",
      "source": [
        "print(gs.best_params_)\n",
        "print(np.max(gs.cv_results_['mean_test_score']))\n",
        "\n",
        "dt = gs.best_estimator_\n",
        "print(dt.score(test_input, test_target))"
      ],
      "metadata": {
        "colab": {
          "base_uri": "https://localhost:8080/"
        },
        "id": "r5Zowz6w0a-Q",
        "outputId": "2dfb00d6-f8ab-417e-b13e-e09eae814342"
      },
      "execution_count": null,
      "outputs": [
        {
          "output_type": "stream",
          "name": "stdout",
          "text": [
            "{'max_depth': 39, 'min_impurity_decrease': 0.00034102546602601173, 'min_samples_leaf': 7, 'min_samples_split': 13}\n",
            "0.8695428296438884\n",
            "0.86\n"
          ]
        }
      ]
    }
  ]
}